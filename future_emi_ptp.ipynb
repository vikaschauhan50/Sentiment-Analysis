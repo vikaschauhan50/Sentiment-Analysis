{
 "cells": [
  {
   "cell_type": "markdown",
   "metadata": {},
   "source": [
    "# unstructured data\n",
    "What Is Text Analysis?\n",
    "\n",
    "Text analysis is the automated process of examining text by extracting and classifying data from your written data sources (emails, Facebook comments, survey responses, chat conversations, and more).\n",
    "\n",
    "We start differentiating between objects, emotions, themes, distinguish tags,\n"
   ]
  },
  {
   "cell_type": "code",
   "execution_count": 1,
   "metadata": {},
   "outputs": [],
   "source": [
    "import pandas as pd\n",
    "import numpy as np\n",
    "import re\n",
    "import string \n",
    "import matplotlib.pyplot as plt"
   ]
  },
  {
   "cell_type": "code",
   "execution_count": 2,
   "metadata": {},
   "outputs": [
    {
     "data": {
      "text/plain": [
       "Index(['date_received', 'product', 'sub_product', 'issue', 'sub_issue',\n",
       "       'consumer_complaint_narrative', 'company_public_response', 'company',\n",
       "       'state', 'zipcode', 'tags', 'consumer_consent_provided',\n",
       "       'submitted_via', 'date_sent_to_company', 'company_response_to_consumer',\n",
       "       'timely_response', 'consumer_disputed?', 'complaint_id'],\n",
       "      dtype='object')"
      ]
     },
     "execution_count": 2,
     "metadata": {},
     "output_type": "execute_result"
    }
   ],
   "source": [
    "df =pd.read_csv(r'C:\\Users\\Chauhan\\Downloads\\consumer\\consumer_complaints.csv', engine='python') #nrows=999,\n",
    "df.columns"
   ]
  },
  {
   "cell_type": "code",
   "execution_count": 3,
   "metadata": {},
   "outputs": [
    {
     "data": {
      "text/plain": [
       "(555957, 18)"
      ]
     },
     "execution_count": 3,
     "metadata": {},
     "output_type": "execute_result"
    }
   ],
   "source": [
    "df.shape # to get the understanding of data"
   ]
  },
  {
   "cell_type": "code",
   "execution_count": 4,
   "metadata": {},
   "outputs": [
    {
     "data": {
      "image/png": "[encoded data removed]",
      "text/plain": [
       "<PIL.PngImagePlugin.PngImageFile image mode=P size=512x268 at 0x8D5DDA0>"
      ]
     },
     "execution_count": 4,
     "metadata": {},
     "output_type": "execute_result"
    }
   ],
   "source": [
    "from PIL import Image\n",
    "\n",
    "url = 'https://res.cloudinary.com/dyd911kmh/image/upload/f_auto,q_auto:best/v1535125878/NLTK3_zwbdgg.png'\n",
    "import requests\n",
    "\n",
    "Image.open(requests.get(url, stream=True).raw)"
   ]
  },
  {
   "cell_type": "markdown",
   "metadata": {},
   "source": [
    "# Step- 1"
   ]
  },
  {
   "cell_type": "code",
   "execution_count": 5,
   "metadata": {},
   "outputs": [
    {
     "data": {
      "text/html": [
       "<div>\n",
       "<style scoped>\n",
       "    .dataframe tbody tr th:only-of-type {\n",
       "        vertical-align: middle;\n",
       "    }\n",
       "\n",
       "    .dataframe tbody tr th {\n",
       "        vertical-align: top;\n",
       "    }\n",
       "\n",
       "    .dataframe thead th {\n",
       "        text-align: right;\n",
       "    }\n",
       "</style>\n",
       "<table border=\"1\" class=\"dataframe\">\n",
       "  <thead>\n",
       "    <tr style=\"text-align: right;\">\n",
       "      <th></th>\n",
       "      <th>complaint_id</th>\n",
       "      <th>date_received</th>\n",
       "      <th>issue</th>\n",
       "      <th>state</th>\n",
       "      <th>submitted_via</th>\n",
       "    </tr>\n",
       "  </thead>\n",
       "  <tbody>\n",
       "    <tr>\n",
       "      <th>0</th>\n",
       "      <td>511074</td>\n",
       "      <td>8/30/2013</td>\n",
       "      <td>Loan modification,collection,foreclosure</td>\n",
       "      <td>CA</td>\n",
       "      <td>Referral</td>\n",
       "    </tr>\n",
       "    <tr>\n",
       "      <th>1</th>\n",
       "      <td>511080</td>\n",
       "      <td>8/30/2013</td>\n",
       "      <td>Quick Baseline. Apply some variant of decision...</td>\n",
       "      <td>CA</td>\n",
       "      <td>Referral</td>\n",
       "    </tr>\n",
       "  </tbody>\n",
       "</table>\n",
       "</div>"
      ],
      "text/plain": [
       "   complaint_id date_received  \\\n",
       "0        511074     8/30/2013   \n",
       "1        511080     8/30/2013   \n",
       "\n",
       "                                               issue state submitted_via  \n",
       "0           Loan modification,collection,foreclosure    CA      Referral  \n",
       "1  Quick Baseline. Apply some variant of decision...    CA      Referral  "
      ]
     },
     "execution_count": 5,
     "metadata": {},
     "output_type": "execute_result"
    }
   ],
   "source": [
    "df1 = df.loc[ 0: 1000, ['complaint_id',\"date_received\", 'issue', 'state', 'submitted_via']]\n",
    "df1.head(2)"
   ]
  },
  {
   "cell_type": "markdown",
   "metadata": {},
   "source": [
    "# Step 2 :- Clean Data and Lower Case"
   ]
  },
  {
   "cell_type": "markdown",
   "metadata": {},
   "source": [
    "# # Type of model you use: text classifiers or text extractors.\n",
    "Text classifiers assign a category or tag to a piece of text based on its content. They are used for a wide variety of analysis such as <b> sentiment analysis, topic classification, urgency detection, intent categorization</b>.\n",
    "\n",
    "Text Extractors identify and pulls data that is within the text. They are used for extracting the most relevant keywords or expressions from text, extracting names of people, brands or companies, prices, dates, etc. \n"
   ]
  },
  {
   "cell_type": "code",
   "execution_count": 6,
   "metadata": {},
   "outputs": [],
   "source": [
    "import nltk\n",
    "#nltk.download()"
   ]
  },
  {
   "cell_type": "markdown",
   "metadata": {},
   "source": [
    "# Sentiment Analysis\n",
    "There are mainly two approaches for performing sentiment analysis.\n",
    "\n",
    "Lexicon-based: count number of positive and negative words in given text and the larger count will be the sentiment of text.\n",
    "\n",
    "Machine learning based approach: Develop a classification model, which is trained using the pre-labeled dataset of positive, negative, and neutral.\n",
    "\n",
    "<b>Performing Sentiment Analysis using Text Classification using 2nd Approach<b>"
   ]
  },
  {
   "cell_type": "code",
   "execution_count": 7,
   "metadata": {},
   "outputs": [
    {
     "data": {
      "text/plain": [
       "Web            692\n",
       "Postal mail    107\n",
       "Referral        92\n",
       "Phone           90\n",
       "Fax             19\n",
       "Email            1\n",
       "Name: submitted_via, dtype: int64"
      ]
     },
     "execution_count": 7,
     "metadata": {},
     "output_type": "execute_result"
    }
   ],
   "source": [
    "df1.submitted_via.value_counts()"
   ]
  },
  {
   "cell_type": "code",
   "execution_count": 8,
   "metadata": {},
   "outputs": [
    {
     "data": {
      "text/html": [
       "<div>\n",
       "<style scoped>\n",
       "    .dataframe tbody tr th:only-of-type {\n",
       "        vertical-align: middle;\n",
       "    }\n",
       "\n",
       "    .dataframe tbody tr th {\n",
       "        vertical-align: top;\n",
       "    }\n",
       "\n",
       "    .dataframe thead th {\n",
       "        text-align: right;\n",
       "    }\n",
       "</style>\n",
       "<table border=\"1\" class=\"dataframe\">\n",
       "  <thead>\n",
       "    <tr style=\"text-align: right;\">\n",
       "      <th></th>\n",
       "      <th>complaint_id</th>\n",
       "      <th>date_received</th>\n",
       "      <th>issue</th>\n",
       "      <th>state</th>\n",
       "    </tr>\n",
       "    <tr>\n",
       "      <th>submitted_via</th>\n",
       "      <th></th>\n",
       "      <th></th>\n",
       "      <th></th>\n",
       "      <th></th>\n",
       "    </tr>\n",
       "  </thead>\n",
       "  <tbody>\n",
       "    <tr>\n",
       "      <th>Email</th>\n",
       "      <td>1</td>\n",
       "      <td>1</td>\n",
       "      <td>1</td>\n",
       "      <td>1</td>\n",
       "    </tr>\n",
       "    <tr>\n",
       "      <th>Fax</th>\n",
       "      <td>19</td>\n",
       "      <td>19</td>\n",
       "      <td>19</td>\n",
       "      <td>19</td>\n",
       "    </tr>\n",
       "    <tr>\n",
       "      <th>Phone</th>\n",
       "      <td>90</td>\n",
       "      <td>90</td>\n",
       "      <td>90</td>\n",
       "      <td>89</td>\n",
       "    </tr>\n",
       "    <tr>\n",
       "      <th>Postal mail</th>\n",
       "      <td>107</td>\n",
       "      <td>107</td>\n",
       "      <td>107</td>\n",
       "      <td>107</td>\n",
       "    </tr>\n",
       "    <tr>\n",
       "      <th>Referral</th>\n",
       "      <td>92</td>\n",
       "      <td>92</td>\n",
       "      <td>92</td>\n",
       "      <td>92</td>\n",
       "    </tr>\n",
       "    <tr>\n",
       "      <th>Web</th>\n",
       "      <td>692</td>\n",
       "      <td>692</td>\n",
       "      <td>692</td>\n",
       "      <td>690</td>\n",
       "    </tr>\n",
       "  </tbody>\n",
       "</table>\n",
       "</div>"
      ],
      "text/plain": [
       "               complaint_id  date_received  issue  state\n",
       "submitted_via                                           \n",
       "Email                     1              1      1      1\n",
       "Fax                      19             19     19     19\n",
       "Phone                    90             90     90     89\n",
       "Postal mail             107            107    107    107\n",
       "Referral                 92             92     92     92\n",
       "Web                     692            692    692    690"
      ]
     },
     "execution_count": 8,
     "metadata": {},
     "output_type": "execute_result"
    }
   ],
   "source": [
    "#It shows state value is avaible in 7869 rows and 249 empty rows for submitted_via = Fax is having \n",
    "df1.groupby('submitted_via').count()"
   ]
  },
  {
   "cell_type": "code",
   "execution_count": 9,
   "metadata": {},
   "outputs": [
    {
     "data": {
      "image/png": "[encoded data removed]",
      "text/plain": [
       "<Figure size 432x288 with 1 Axes>"
      ]
     },
     "metadata": {
      "needs_background": "light"
     },
     "output_type": "display_data"
    }
   ],
   "source": [
    "Sentiment_count=df1.groupby('submitted_via').count()\n",
    "plt.bar(Sentiment_count.index.values, Sentiment_count['state'])\n",
    "plt.xlabel('State Sentiments')\n",
    "plt.ylabel('Value_counts of Submitted_via')\n",
    "plt.show()"
   ]
  },
  {
   "cell_type": "code",
   "execution_count": 10,
   "metadata": {},
   "outputs": [],
   "source": [
    "#function removed capitalization and punctuation. (We’re not doing any complicated syntactic analysis, so we don’t need to preserve the sentence structure or capitalization)."
   ]
  },
  {
   "cell_type": "code",
   "execution_count": 11,
   "metadata": {},
   "outputs": [],
   "source": [
    "def clean_text(article):\n",
    "    clean1 = re.sub(r'['+string.punctuation + '’—”'+']', \"\", article.lower())\n",
    "    return re.sub(r'\\W+', ' ', clean1)\n",
    "    "
   ]
  },
  {
   "cell_type": "code",
   "execution_count": 12,
   "metadata": {},
   "outputs": [],
   "source": [
    "clean_text('Loan modification,collection,foreclosure')\n",
    "df1['tokenized'] = df1['issue'].map(lambda x: clean_text(x))"
   ]
  },
  {
   "cell_type": "markdown",
   "metadata": {},
   "source": [
    "# Step -3 Tokenize"
   ]
  },
  {
   "cell_type": "markdown",
   "metadata": {},
   "source": [
    "# Tokenize and calculate execution time"
   ]
  },
  {
   "cell_type": "code",
   "execution_count": 13,
   "metadata": {},
   "outputs": [
    {
     "name": "stdout",
     "output_type": "stream",
     "text": [
      "The total applied time is 0.16200947761535645\n"
     ]
    }
   ],
   "source": [
    "import time\n",
    "start = time.time()\n",
    "df1['tokenized'] = df1['tokenized'].map(lambda x: nltk.word_tokenize(x))\n",
    "print(\"The total applied time is\", (time.time() - start))"
   ]
  },
  {
   "cell_type": "code",
   "execution_count": 14,
   "metadata": {},
   "outputs": [
    {
     "data": {
      "text/html": [
       "<div>\n",
       "<style scoped>\n",
       "    .dataframe tbody tr th:only-of-type {\n",
       "        vertical-align: middle;\n",
       "    }\n",
       "\n",
       "    .dataframe tbody tr th {\n",
       "        vertical-align: top;\n",
       "    }\n",
       "\n",
       "    .dataframe thead th {\n",
       "        text-align: right;\n",
       "    }\n",
       "</style>\n",
       "<table border=\"1\" class=\"dataframe\">\n",
       "  <thead>\n",
       "    <tr style=\"text-align: right;\">\n",
       "      <th></th>\n",
       "      <th>complaint_id</th>\n",
       "      <th>date_received</th>\n",
       "      <th>issue</th>\n",
       "      <th>state</th>\n",
       "      <th>submitted_via</th>\n",
       "      <th>tokenized</th>\n",
       "    </tr>\n",
       "  </thead>\n",
       "  <tbody>\n",
       "    <tr>\n",
       "      <th>0</th>\n",
       "      <td>511074</td>\n",
       "      <td>8/30/2013</td>\n",
       "      <td>Loan modification,collection,foreclosure</td>\n",
       "      <td>CA</td>\n",
       "      <td>Referral</td>\n",
       "      <td>[loan, modificationcollectionforeclosure]</td>\n",
       "    </tr>\n",
       "    <tr>\n",
       "      <th>1</th>\n",
       "      <td>511080</td>\n",
       "      <td>8/30/2013</td>\n",
       "      <td>Quick Baseline. Apply some variant of decision...</td>\n",
       "      <td>CA</td>\n",
       "      <td>Referral</td>\n",
       "      <td>[quick, baseline, apply, some, variant, of, de...</td>\n",
       "    </tr>\n",
       "  </tbody>\n",
       "</table>\n",
       "</div>"
      ],
      "text/plain": [
       "   complaint_id date_received  \\\n",
       "0        511074     8/30/2013   \n",
       "1        511080     8/30/2013   \n",
       "\n",
       "                                               issue state submitted_via  \\\n",
       "0           Loan modification,collection,foreclosure    CA      Referral   \n",
       "1  Quick Baseline. Apply some variant of decision...    CA      Referral   \n",
       "\n",
       "                                           tokenized  \n",
       "0          [loan, modificationcollectionforeclosure]  \n",
       "1  [quick, baseline, apply, some, variant, of, de...  "
      ]
     },
     "execution_count": 14,
     "metadata": {},
     "output_type": "execute_result"
    }
   ],
   "source": [
    "df1.head(2)"
   ]
  },
  {
   "cell_type": "markdown",
   "metadata": {},
   "source": [
    "# Step 4 - Stopwords "
   ]
  },
  {
   "cell_type": "code",
   "execution_count": 15,
   "metadata": {},
   "outputs": [],
   "source": [
    "from nltk.corpus import stopwords\n",
    "#print(stopwords.words('english'))"
   ]
  },
  {
   "cell_type": "code",
   "execution_count": 16,
   "metadata": {},
   "outputs": [
    {
     "data": {
      "text/plain": [
       "'text1 = \\'improper contact or sharing of info\\'\\nsplit_str = text1.split()\\nfiltered_str = \\' \\'.join((filter(lambda s: s not in stopwords.words(\\'english\\'), split_str)))\\nprint(\"Filtered seq. is as follows: \", filtered_str)'"
      ]
     },
     "execution_count": 16,
     "metadata": {},
     "output_type": "execute_result"
    }
   ],
   "source": [
    "\"\"\"text1 = 'improper contact or sharing of info'\n",
    "split_str = text1.split()\n",
    "filtered_str = ' '.join((filter(lambda s: s not in stopwords.words('english'), split_str)))\n",
    "print(\"Filtered seq. is as follows: \", filtered_str)\"\"\""
   ]
  },
  {
   "cell_type": "code",
   "execution_count": 17,
   "metadata": {},
   "outputs": [],
   "source": [
    "def stopwords_text(full_str):\n",
    "    #split_str = full_str.split()\n",
    "    filtered_str = ' '.join((filter(lambda s: s not in stopwords.words('english'), full_str)))\n",
    "    return filtered_str"
   ]
  },
  {
   "cell_type": "code",
   "execution_count": 18,
   "metadata": {},
   "outputs": [
    {
     "data": {
      "text/html": [
       "<div>\n",
       "<style scoped>\n",
       "    .dataframe tbody tr th:only-of-type {\n",
       "        vertical-align: middle;\n",
       "    }\n",
       "\n",
       "    .dataframe tbody tr th {\n",
       "        vertical-align: top;\n",
       "    }\n",
       "\n",
       "    .dataframe thead th {\n",
       "        text-align: right;\n",
       "    }\n",
       "</style>\n",
       "<table border=\"1\" class=\"dataframe\">\n",
       "  <thead>\n",
       "    <tr style=\"text-align: right;\">\n",
       "      <th></th>\n",
       "      <th>complaint_id</th>\n",
       "      <th>date_received</th>\n",
       "      <th>issue</th>\n",
       "      <th>state</th>\n",
       "      <th>submitted_via</th>\n",
       "      <th>tokenized</th>\n",
       "      <th>filtered</th>\n",
       "    </tr>\n",
       "  </thead>\n",
       "  <tbody>\n",
       "    <tr>\n",
       "      <th>0</th>\n",
       "      <td>511074</td>\n",
       "      <td>8/30/2013</td>\n",
       "      <td>Loan modification,collection,foreclosure</td>\n",
       "      <td>CA</td>\n",
       "      <td>Referral</td>\n",
       "      <td>[loan, modificationcollectionforeclosure]</td>\n",
       "      <td>loan modificationcollectionforeclosure</td>\n",
       "    </tr>\n",
       "    <tr>\n",
       "      <th>1</th>\n",
       "      <td>511080</td>\n",
       "      <td>8/30/2013</td>\n",
       "      <td>Quick Baseline. Apply some variant of decision...</td>\n",
       "      <td>CA</td>\n",
       "      <td>Referral</td>\n",
       "      <td>[quick, baseline, apply, some, variant, of, de...</td>\n",
       "      <td>quick baseline apply variant decision treewith...</td>\n",
       "    </tr>\n",
       "  </tbody>\n",
       "</table>\n",
       "</div>"
      ],
      "text/plain": [
       "   complaint_id date_received  \\\n",
       "0        511074     8/30/2013   \n",
       "1        511080     8/30/2013   \n",
       "\n",
       "                                               issue state submitted_via  \\\n",
       "0           Loan modification,collection,foreclosure    CA      Referral   \n",
       "1  Quick Baseline. Apply some variant of decision...    CA      Referral   \n",
       "\n",
       "                                           tokenized  \\\n",
       "0          [loan, modificationcollectionforeclosure]   \n",
       "1  [quick, baseline, apply, some, variant, of, de...   \n",
       "\n",
       "                                            filtered  \n",
       "0             loan modificationcollectionforeclosure  \n",
       "1  quick baseline apply variant decision treewith...  "
      ]
     },
     "execution_count": 18,
     "metadata": {},
     "output_type": "execute_result"
    }
   ],
   "source": [
    "df1['filtered'] = df1['tokenized'].map(lambda x: stopwords_text(x))\n",
    "df1.head(2)"
   ]
  },
  {
   "cell_type": "markdown",
   "metadata": {},
   "source": [
    "# Step 5- Tokenize filtered data"
   ]
  },
  {
   "cell_type": "code",
   "execution_count": 19,
   "metadata": {},
   "outputs": [
    {
     "data": {
      "text/html": [
       "<div>\n",
       "<style scoped>\n",
       "    .dataframe tbody tr th:only-of-type {\n",
       "        vertical-align: middle;\n",
       "    }\n",
       "\n",
       "    .dataframe tbody tr th {\n",
       "        vertical-align: top;\n",
       "    }\n",
       "\n",
       "    .dataframe thead th {\n",
       "        text-align: right;\n",
       "    }\n",
       "</style>\n",
       "<table border=\"1\" class=\"dataframe\">\n",
       "  <thead>\n",
       "    <tr style=\"text-align: right;\">\n",
       "      <th></th>\n",
       "      <th>complaint_id</th>\n",
       "      <th>date_received</th>\n",
       "      <th>issue</th>\n",
       "      <th>state</th>\n",
       "      <th>submitted_via</th>\n",
       "      <th>tokenized</th>\n",
       "      <th>filtered</th>\n",
       "    </tr>\n",
       "  </thead>\n",
       "  <tbody>\n",
       "    <tr>\n",
       "      <th>0</th>\n",
       "      <td>511074</td>\n",
       "      <td>8/30/2013</td>\n",
       "      <td>Loan modification,collection,foreclosure</td>\n",
       "      <td>CA</td>\n",
       "      <td>Referral</td>\n",
       "      <td>[loan, modificationcollectionforeclosure]</td>\n",
       "      <td>loan modificationcollectionforeclosure</td>\n",
       "    </tr>\n",
       "    <tr>\n",
       "      <th>1</th>\n",
       "      <td>511080</td>\n",
       "      <td>8/30/2013</td>\n",
       "      <td>Quick Baseline. Apply some variant of decision...</td>\n",
       "      <td>CA</td>\n",
       "      <td>Referral</td>\n",
       "      <td>[quick, baseline, apply, variant, decision, tr...</td>\n",
       "      <td>quick baseline apply variant decision treewith...</td>\n",
       "    </tr>\n",
       "  </tbody>\n",
       "</table>\n",
       "</div>"
      ],
      "text/plain": [
       "   complaint_id date_received  \\\n",
       "0        511074     8/30/2013   \n",
       "1        511080     8/30/2013   \n",
       "\n",
       "                                               issue state submitted_via  \\\n",
       "0           Loan modification,collection,foreclosure    CA      Referral   \n",
       "1  Quick Baseline. Apply some variant of decision...    CA      Referral   \n",
       "\n",
       "                                           tokenized  \\\n",
       "0          [loan, modificationcollectionforeclosure]   \n",
       "1  [quick, baseline, apply, variant, decision, tr...   \n",
       "\n",
       "                                            filtered  \n",
       "0             loan modificationcollectionforeclosure  \n",
       "1  quick baseline apply variant decision treewith...  "
      ]
     },
     "execution_count": 19,
     "metadata": {},
     "output_type": "execute_result"
    }
   ],
   "source": [
    "df1['tokenized'] = df1['filtered'].map(lambda x: nltk.word_tokenize(x))\n",
    "df1.head(2)"
   ]
  },
  {
   "cell_type": "markdown",
   "metadata": {},
   "source": [
    "# Step 6 Stemming and Lemmatization"
   ]
  },
  {
   "cell_type": "markdown",
   "metadata": {},
   "source": [
    "# Lexicon Normalization\n",
    "#It reduces derivationally related forms of a word to a common root word.\n",
    "# Stemming \n",
    "#Stemming is a process of linguistic normalization, which reduces words to their word root word or chops off the derivational affixes.\n",
    "# Lemmatization\n",
    "#It transforms root word with the use of vocabulary and morphological analysis. Lemmatization is usually more sophisticated than stemming. Stemmer works on an individual word without knowledge of the context.\n",
    "#For example, The word \"better\" has \"good\" as its lemma. This thing will miss by stemming because it requires a dictionary look-up."
   ]
  },
  {
   "cell_type": "code",
   "execution_count": 20,
   "metadata": {},
   "outputs": [],
   "source": [
    "from nltk.stem.wordnet import WordNetLemmatizer\n",
    "lem = WordNetLemmatizer()\n",
    "\n",
    "from nltk.stem.porter import PorterStemmer\n",
    "stem = PorterStemmer()\n",
    "\n",
    "def lemmatiz(str):\n",
    "    strng = list()\n",
    "    for i in str.split():\n",
    "        strng.append(lem.lemmatize(i,\"v\"))\n",
    "    return strng\n",
    "\n",
    "\n",
    "def stemetiz(str):\n",
    "    strng = list()\n",
    "    for i in str.split():\n",
    "        strng.append(stem.stem(i))\n",
    "    return strng"
   ]
  },
  {
   "cell_type": "code",
   "execution_count": 21,
   "metadata": {},
   "outputs": [],
   "source": [
    "df1['lemmatizer'] = df1['filtered'].map(lambda x: lemmatiz(x))"
   ]
  },
  {
   "cell_type": "code",
   "execution_count": 22,
   "metadata": {},
   "outputs": [],
   "source": [
    "df1['stemmer'] = df1['filtered'].map(lambda x: stemetiz(x))\n",
    "#word = \"repaying loan\"; print(\"Lemmatized Word:\",lem.lemmatize(word,\"v\")); print(\"Stemmed Word:\",stem.stem(word))"
   ]
  },
  {
   "cell_type": "code",
   "execution_count": 23,
   "metadata": {},
   "outputs": [
    {
     "data": {
      "text/html": [
       "<div>\n",
       "<style scoped>\n",
       "    .dataframe tbody tr th:only-of-type {\n",
       "        vertical-align: middle;\n",
       "    }\n",
       "\n",
       "    .dataframe tbody tr th {\n",
       "        vertical-align: top;\n",
       "    }\n",
       "\n",
       "    .dataframe thead th {\n",
       "        text-align: right;\n",
       "    }\n",
       "</style>\n",
       "<table border=\"1\" class=\"dataframe\">\n",
       "  <thead>\n",
       "    <tr style=\"text-align: right;\">\n",
       "      <th></th>\n",
       "      <th>complaint_id</th>\n",
       "      <th>date_received</th>\n",
       "      <th>issue</th>\n",
       "      <th>state</th>\n",
       "      <th>submitted_via</th>\n",
       "      <th>tokenized</th>\n",
       "      <th>filtered</th>\n",
       "      <th>lemmatizer</th>\n",
       "      <th>stemmer</th>\n",
       "    </tr>\n",
       "  </thead>\n",
       "  <tbody>\n",
       "    <tr>\n",
       "      <th>0</th>\n",
       "      <td>511074</td>\n",
       "      <td>8/30/2013</td>\n",
       "      <td>Loan modification,collection,foreclosure</td>\n",
       "      <td>CA</td>\n",
       "      <td>Referral</td>\n",
       "      <td>[loan, modificationcollectionforeclosure]</td>\n",
       "      <td>loan modificationcollectionforeclosure</td>\n",
       "      <td>[loan, modificationcollectionforeclosure]</td>\n",
       "      <td>[loan, modificationcollectionforeclosur]</td>\n",
       "    </tr>\n",
       "    <tr>\n",
       "      <th>1</th>\n",
       "      <td>511080</td>\n",
       "      <td>8/30/2013</td>\n",
       "      <td>Quick Baseline. Apply some variant of decision...</td>\n",
       "      <td>CA</td>\n",
       "      <td>Referral</td>\n",
       "      <td>[quick, baseline, apply, variant, decision, tr...</td>\n",
       "      <td>quick baseline apply variant decision treewith...</td>\n",
       "      <td>[quick, baseline, apply, variant, decision, tr...</td>\n",
       "      <td>[quick, baselin, appli, variant, decis, treewi...</td>\n",
       "    </tr>\n",
       "  </tbody>\n",
       "</table>\n",
       "</div>"
      ],
      "text/plain": [
       "   complaint_id date_received  \\\n",
       "0        511074     8/30/2013   \n",
       "1        511080     8/30/2013   \n",
       "\n",
       "                                               issue state submitted_via  \\\n",
       "0           Loan modification,collection,foreclosure    CA      Referral   \n",
       "1  Quick Baseline. Apply some variant of decision...    CA      Referral   \n",
       "\n",
       "                                           tokenized  \\\n",
       "0          [loan, modificationcollectionforeclosure]   \n",
       "1  [quick, baseline, apply, variant, decision, tr...   \n",
       "\n",
       "                                            filtered  \\\n",
       "0             loan modificationcollectionforeclosure   \n",
       "1  quick baseline apply variant decision treewith...   \n",
       "\n",
       "                                          lemmatizer  \\\n",
       "0          [loan, modificationcollectionforeclosure]   \n",
       "1  [quick, baseline, apply, variant, decision, tr...   \n",
       "\n",
       "                                             stemmer  \n",
       "0           [loan, modificationcollectionforeclosur]  \n",
       "1  [quick, baselin, appli, variant, decis, treewi...  "
      ]
     },
     "execution_count": 23,
     "metadata": {},
     "output_type": "execute_result"
    }
   ],
   "source": [
    "df1.head(2)"
   ]
  },
  {
   "cell_type": "markdown",
   "metadata": {},
   "source": [
    "# Step No -7  Bag of Words"
   ]
  },
  {
   "cell_type": "markdown",
   "metadata": {},
   "source": [
    "# Feature Generation using Bag of Words\n",
    "Bag-of-words model(BoW ) is the simplest way of extracting features from the text. BoW converts text into the matrix of occurrence of words within a document."
   ]
  },
  {
   "cell_type": "markdown",
   "metadata": {},
   "source": [
    "# Text Analysis: Testing Our Hypothesis\n",
    "#we're going to use regex, or regular expressions."
   ]
  },
  {
   "cell_type": "code",
   "execution_count": 24,
   "metadata": {},
   "outputs": [],
   "source": [
    "cc_wds=['loan','closure', 'quick']\n",
    "def comp_bool(x):\n",
    "    substr = pd.Series(x)\n",
    "    return any(substr.isin(cc_wds))\n"
   ]
  },
  {
   "cell_type": "code",
   "execution_count": 25,
   "metadata": {},
   "outputs": [
    {
     "name": "stderr",
     "output_type": "stream",
     "text": [
      "D:\\python\\lib\\site-packages\\ipykernel_launcher.py:3: DeprecationWarning: The default dtype for empty Series will be 'object' instead of 'float64' in a future version. Specify a dtype explicitly to silence this warning.\n",
      "  This is separate from the ipykernel package so we can avoid doing imports until\n"
     ]
    }
   ],
   "source": [
    "df1['status']= df1['lemmatizer'].map(lambda x: comp_bool(x))"
   ]
  },
  {
   "cell_type": "code",
   "execution_count": 26,
   "metadata": {},
   "outputs": [
    {
     "data": {
      "text/html": [
       "<div>\n",
       "<style scoped>\n",
       "    .dataframe tbody tr th:only-of-type {\n",
       "        vertical-align: middle;\n",
       "    }\n",
       "\n",
       "    .dataframe tbody tr th {\n",
       "        vertical-align: top;\n",
       "    }\n",
       "\n",
       "    .dataframe thead th {\n",
       "        text-align: right;\n",
       "    }\n",
       "</style>\n",
       "<table border=\"1\" class=\"dataframe\">\n",
       "  <thead>\n",
       "    <tr style=\"text-align: right;\">\n",
       "      <th></th>\n",
       "      <th>complaint_id</th>\n",
       "      <th>date_received</th>\n",
       "      <th>issue</th>\n",
       "      <th>state</th>\n",
       "      <th>submitted_via</th>\n",
       "      <th>tokenized</th>\n",
       "      <th>filtered</th>\n",
       "      <th>lemmatizer</th>\n",
       "      <th>stemmer</th>\n",
       "      <th>status</th>\n",
       "    </tr>\n",
       "  </thead>\n",
       "  <tbody>\n",
       "    <tr>\n",
       "      <th>0</th>\n",
       "      <td>511074</td>\n",
       "      <td>8/30/2013</td>\n",
       "      <td>Loan modification,collection,foreclosure</td>\n",
       "      <td>CA</td>\n",
       "      <td>Referral</td>\n",
       "      <td>[loan, modificationcollectionforeclosure]</td>\n",
       "      <td>loan modificationcollectionforeclosure</td>\n",
       "      <td>[loan, modificationcollectionforeclosure]</td>\n",
       "      <td>[loan, modificationcollectionforeclosur]</td>\n",
       "      <td>True</td>\n",
       "    </tr>\n",
       "    <tr>\n",
       "      <th>1</th>\n",
       "      <td>511080</td>\n",
       "      <td>8/30/2013</td>\n",
       "      <td>Quick Baseline. Apply some variant of decision...</td>\n",
       "      <td>CA</td>\n",
       "      <td>Referral</td>\n",
       "      <td>[quick, baseline, apply, variant, decision, tr...</td>\n",
       "      <td>quick baseline apply variant decision treewith...</td>\n",
       "      <td>[quick, baseline, apply, variant, decision, tr...</td>\n",
       "      <td>[quick, baselin, appli, variant, decis, treewi...</td>\n",
       "      <td>True</td>\n",
       "    </tr>\n",
       "    <tr>\n",
       "      <th>2</th>\n",
       "      <td>510473</td>\n",
       "      <td>8/30/2013</td>\n",
       "      <td>Incorrect information on credit report</td>\n",
       "      <td>NY</td>\n",
       "      <td>Postal mail</td>\n",
       "      <td>[incorrect, information, credit, report]</td>\n",
       "      <td>incorrect information credit report</td>\n",
       "      <td>[incorrect, information, credit, report]</td>\n",
       "      <td>[incorrect, inform, credit, report]</td>\n",
       "      <td>False</td>\n",
       "    </tr>\n",
       "    <tr>\n",
       "      <th>3</th>\n",
       "      <td>510326</td>\n",
       "      <td>8/30/2013</td>\n",
       "      <td>Repaying your loan</td>\n",
       "      <td>MD</td>\n",
       "      <td>Email</td>\n",
       "      <td>[repaying, loan]</td>\n",
       "      <td>repaying loan</td>\n",
       "      <td>[repay, loan]</td>\n",
       "      <td>[repay, loan]</td>\n",
       "      <td>True</td>\n",
       "    </tr>\n",
       "    <tr>\n",
       "      <th>4</th>\n",
       "      <td>511067</td>\n",
       "      <td>8/30/2013</td>\n",
       "      <td>False statements or representation</td>\n",
       "      <td>GA</td>\n",
       "      <td>Web</td>\n",
       "      <td>[false, statements, representation]</td>\n",
       "      <td>false statements representation</td>\n",
       "      <td>[false, statements, representation]</td>\n",
       "      <td>[fals, statement, represent]</td>\n",
       "      <td>False</td>\n",
       "    </tr>\n",
       "  </tbody>\n",
       "</table>\n",
       "</div>"
      ],
      "text/plain": [
       "   complaint_id date_received  \\\n",
       "0        511074     8/30/2013   \n",
       "1        511080     8/30/2013   \n",
       "2        510473     8/30/2013   \n",
       "3        510326     8/30/2013   \n",
       "4        511067     8/30/2013   \n",
       "\n",
       "                                               issue state submitted_via  \\\n",
       "0           Loan modification,collection,foreclosure    CA      Referral   \n",
       "1  Quick Baseline. Apply some variant of decision...    CA      Referral   \n",
       "2             Incorrect information on credit report    NY   Postal mail   \n",
       "3                                 Repaying your loan    MD         Email   \n",
       "4                 False statements or representation    GA           Web   \n",
       "\n",
       "                                           tokenized  \\\n",
       "0          [loan, modificationcollectionforeclosure]   \n",
       "1  [quick, baseline, apply, variant, decision, tr...   \n",
       "2           [incorrect, information, credit, report]   \n",
       "3                                   [repaying, loan]   \n",
       "4                [false, statements, representation]   \n",
       "\n",
       "                                            filtered  \\\n",
       "0             loan modificationcollectionforeclosure   \n",
       "1  quick baseline apply variant decision treewith...   \n",
       "2                incorrect information credit report   \n",
       "3                                      repaying loan   \n",
       "4                    false statements representation   \n",
       "\n",
       "                                          lemmatizer  \\\n",
       "0          [loan, modificationcollectionforeclosure]   \n",
       "1  [quick, baseline, apply, variant, decision, tr...   \n",
       "2           [incorrect, information, credit, report]   \n",
       "3                                      [repay, loan]   \n",
       "4                [false, statements, representation]   \n",
       "\n",
       "                                             stemmer  status  \n",
       "0           [loan, modificationcollectionforeclosur]    True  \n",
       "1  [quick, baselin, appli, variant, decis, treewi...    True  \n",
       "2                [incorrect, inform, credit, report]   False  \n",
       "3                                      [repay, loan]    True  \n",
       "4                       [fals, statement, represent]   False  "
      ]
     },
     "execution_count": 26,
     "metadata": {},
     "output_type": "execute_result"
    }
   ],
   "source": [
    "df1.head()"
   ]
  },
  {
   "cell_type": "code",
   "execution_count": 27,
   "metadata": {},
   "outputs": [],
   "source": [
    "df1.to_csv('future_emi_ptp_final.csv')"
   ]
  },
  {
   "cell_type": "markdown",
   "metadata": {},
   "source": [
    "# How to Use Text Analysis with Python\n",
    "You might opt for open source libraries, such as <b>Scikit-learn or NLTK</b>, for example. Some other libraries include <b>SpaCy</b> (its API is simple and productive), <b>Keras (a machine learning library with a focus on enabling fast experimentation), TensorFlow (for using deep learning for analyzing text), or PyTorch <b/>(another library used for building deep neural networks for NLP). "
   ]
  },
  {
   "cell_type": "markdown",
   "metadata": {},
   "source": [
    "# https://www.datacamp.com/community/tutorials/text-analytics-beginners-nltk\n",
    "\n",
    "NLTK is a powerful Python package that provides a set of diverse natural languages algorithms. NLTK consists of the most common algorithms such as <b>tokenizing, part-of-speech tagging, stemming, sentiment analysis, topic segmentation, and named entity recognition</b>.\n",
    "\n",
    "<b>NLP enables the computer to interact with humans in a natural manner </b>. It helps the computer to understand the human language and derive meaning from it. NLP is applicable in several problematic from speech recognition, language translation, classifying documents to information extraction. Analyzing movie review is one of the classic examples to demonstrate a simple NLP Bag-of-words model, on movie reviews."
   ]
  },
  {
   "cell_type": "markdown",
   "metadata": {},
   "source": []
  },
  {
   "cell_type": "code",
   "execution_count": 33,
   "metadata": {},
   "outputs": [
    {
     "name": "stdout",
     "output_type": "stream",
     "text": [
      "      account  action  advertise  amount  application  apply  apr  atm  \\\n",
      "0           0       0          0       0            0      0    0    0   \n",
      "1           0       0          0       0            0      1    0    0   \n",
      "2           0       0          0       0            0      0    0    0   \n",
      "3           0       0          0       0            0      0    0    0   \n",
      "4           0       0          0       0            0      0    0    0   \n",
      "...       ...     ...        ...     ...          ...    ...  ...  ...   \n",
      "996         1       0          0       0            0      0    0    0   \n",
      "997         0       0          0       0            1      0    0    0   \n",
      "998         0       0          0       0            0      0    0    0   \n",
      "999         0       0          0       0            0      0    0    0   \n",
      "1000        0       0          0       0            0      0    0    0   \n",
      "\n",
      "      attempt  available  ...  unable  underwrite  unsolicited  use  value  \\\n",
      "0           0          0  ...       0           0            0    0      0   \n",
      "1           0          0  ...       0           0            0    0      1   \n",
      "2           0          0  ...       0           0            0    0      0   \n",
      "3           0          0  ...       0           0            0    0      0   \n",
      "4           0          0  ...       0           0            0    0      0   \n",
      "...       ...        ...  ...     ...         ...          ...  ...    ...   \n",
      "996         0          0  ...       0           0            0    0      0   \n",
      "997         0          0  ...       0           0            0    0      0   \n",
      "998         0          0  ...       0           0            0    0      0   \n",
      "999         0          0  ...       0           0            0    0      0   \n",
      "1000        0          0  ...       0           0            0    0      0   \n",
      "\n",
      "      variant  verification  withdrawals  workout  wrong  \n",
      "0           0             0            0        0      0  \n",
      "1           1             0            0        0      0  \n",
      "2           0             0            0        0      0  \n",
      "3           0             0            0        0      0  \n",
      "4           0             0            0        0      0  \n",
      "...       ...           ...          ...      ...    ...  \n",
      "996         0             0            0        0      0  \n",
      "997         0             0            0        0      0  \n",
      "998         0             0            0        0      0  \n",
      "999         0             0            0        0      0  \n",
      "1000        0             0            0        0      0  \n",
      "\n",
      "[1001 rows x 127 columns]\n"
     ]
    }
   ],
   "source": [
    "import pandas as pd\n",
    "from sklearn.feature_extraction.text import CountVectorizer\n",
    "\n",
    "data = pd.read_csv(\"future_emi_ptp_final.csv\", header=0)\n",
    "docs = list(data.lemmatizer)\n",
    "vec = CountVectorizer()\n",
    "X = vec.fit_transform(docs)\n",
    "df = pd.DataFrame(X.toarray(), columns=vec.get_feature_names())\n",
    "print(df)\n",
    "df.to_csv('future_emi_ptp_final_vec.csv')"
   ]
  },
  {
   "cell_type": "code",
   "execution_count": 34,
   "metadata": {},
   "outputs": [],
   "source": [
    "## install wordcloud\n",
    "# !pip install wordcloud "
   ]
  },
  {
   "cell_type": "code",
   "execution_count": 40,
   "metadata": {},
   "outputs": [
    {
     "data": {
      "image/png": "[encoded data removed]",
      "text/plain": [
       "<Figure size 576x576 with 1 Axes>"
      ]
     },
     "metadata": {
      "needs_background": "light"
     },
     "output_type": "display_data"
    }
   ],
   "source": [
    "from wordcloud import WordCloud, STOPWORDS \n",
    "import matplotlib.pyplot as plt \n",
    "\n",
    "# Reads '.csv ' file  \n",
    "df = pd.read_csv(r\"future_emi_ptp_final.csv\", encoding =\"latin-1\") \n",
    "  \n",
    "comment_words = '' \n",
    "stopwords = set(STOPWORDS) \n",
    "  \n",
    "# iterate through the csv file \n",
    "for val in df.tokenized: \n",
    "      \n",
    "    # typecaste each val to string \n",
    "    val = str(val) \n",
    "  \n",
    "    # split the value \n",
    "    tokens = val.split() \n",
    "      \n",
    "    # Converts each token into lowercase \n",
    "    for i in range(len(tokens)): \n",
    "        tokens[i] = tokens[i].lower() \n",
    "      \n",
    "    comment_words += \" \".join(tokens)+\" \"\n",
    "  \n",
    "wordcloud = WordCloud(width = 800, height = 800, background_color ='white', stopwords = stopwords, \n",
    "                min_font_size = 8).generate(comment_words) \n",
    "  \n",
    "# plot the WordCloud image                        \n",
    "plt.figure(figsize = (8, 8), facecolor = None) \n",
    "plt.imshow(wordcloud) \n",
    "plt.axis(\"off\") \n",
    "plt.tight_layout(pad = 0) \n",
    "plt.show() "
   ]
  },
  {
   "cell_type": "code",
   "execution_count": null,
   "metadata": {},
   "outputs": [],
   "source": []
  }
 ],
 "metadata": {
  "kernelspec": {
   "display_name": "Python 3",
   "language": "python",
   "name": "python3"
  },
  "language_info": {
   "codemirror_mode": {
    "name": "ipython",
    "version": 3
   },
   "file_extension": ".py",
   "mimetype": "text/x-python",
   "name": "python",
   "nbconvert_exporter": "python",
   "pygments_lexer": "ipython3",
   "version": "3.7.3"
  }
 },
 "nbformat": 4,
 "nbformat_minor": 4
}
